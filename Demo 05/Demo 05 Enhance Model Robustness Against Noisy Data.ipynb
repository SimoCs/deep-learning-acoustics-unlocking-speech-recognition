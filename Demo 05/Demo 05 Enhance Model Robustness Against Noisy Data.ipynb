{
  "nbformat": 4,
  "nbformat_minor": 0,
  "metadata": {
    "colab": {
      "provenance": []
    },
    "kernelspec": {
      "name": "python3",
      "display_name": "Python 3"
    },
    "language_info": {
      "name": "python"
    }
  },
  "cells": [
    {
      "cell_type": "markdown",
      "source": [
        "## Step 1: Setup Python Packages"
      ],
      "metadata": {
        "id": "lS7OuCRaknWU"
      }
    },
    {
      "cell_type": "code",
      "source": [
        "!pip install librosa noisereduce"
      ],
      "metadata": {
        "colab": {
          "base_uri": "https://localhost:8080/"
        },
        "id": "5a3wEBU0aFXd",
        "outputId": "b8dde336-9404-4357-f513-7ceb68fca85f"
      },
      "execution_count": 1,
      "outputs": [
        {
          "output_type": "stream",
          "name": "stdout",
          "text": [
            "Requirement already satisfied: librosa in /usr/local/lib/python3.10/dist-packages (0.10.1)\n",
            "Requirement already satisfied: noisereduce in /usr/local/lib/python3.10/dist-packages (3.0.2)\n",
            "Requirement already satisfied: audioread>=2.1.9 in /usr/local/lib/python3.10/dist-packages (from librosa) (3.0.1)\n",
            "Requirement already satisfied: numpy!=1.22.0,!=1.22.1,!=1.22.2,>=1.20.3 in /usr/local/lib/python3.10/dist-packages (from librosa) (1.25.2)\n",
            "Requirement already satisfied: scipy>=1.2.0 in /usr/local/lib/python3.10/dist-packages (from librosa) (1.11.4)\n",
            "Requirement already satisfied: scikit-learn>=0.20.0 in /usr/local/lib/python3.10/dist-packages (from librosa) (1.2.2)\n",
            "Requirement already satisfied: joblib>=0.14 in /usr/local/lib/python3.10/dist-packages (from librosa) (1.4.0)\n",
            "Requirement already satisfied: decorator>=4.3.0 in /usr/local/lib/python3.10/dist-packages (from librosa) (4.4.2)\n",
            "Requirement already satisfied: numba>=0.51.0 in /usr/local/lib/python3.10/dist-packages (from librosa) (0.58.1)\n",
            "Requirement already satisfied: soundfile>=0.12.1 in /usr/local/lib/python3.10/dist-packages (from librosa) (0.12.1)\n",
            "Requirement already satisfied: pooch>=1.0 in /usr/local/lib/python3.10/dist-packages (from librosa) (1.8.1)\n",
            "Requirement already satisfied: soxr>=0.3.2 in /usr/local/lib/python3.10/dist-packages (from librosa) (0.3.7)\n",
            "Requirement already satisfied: typing-extensions>=4.1.1 in /usr/local/lib/python3.10/dist-packages (from librosa) (4.11.0)\n",
            "Requirement already satisfied: lazy-loader>=0.1 in /usr/local/lib/python3.10/dist-packages (from librosa) (0.4)\n",
            "Requirement already satisfied: msgpack>=1.0 in /usr/local/lib/python3.10/dist-packages (from librosa) (1.0.8)\n",
            "Requirement already satisfied: matplotlib in /usr/local/lib/python3.10/dist-packages (from noisereduce) (3.7.1)\n",
            "Requirement already satisfied: tqdm in /usr/local/lib/python3.10/dist-packages (from noisereduce) (4.66.2)\n",
            "Requirement already satisfied: packaging in /usr/local/lib/python3.10/dist-packages (from lazy-loader>=0.1->librosa) (24.0)\n",
            "Requirement already satisfied: llvmlite<0.42,>=0.41.0dev0 in /usr/local/lib/python3.10/dist-packages (from numba>=0.51.0->librosa) (0.41.1)\n",
            "Requirement already satisfied: platformdirs>=2.5.0 in /usr/local/lib/python3.10/dist-packages (from pooch>=1.0->librosa) (4.2.0)\n",
            "Requirement already satisfied: requests>=2.19.0 in /usr/local/lib/python3.10/dist-packages (from pooch>=1.0->librosa) (2.31.0)\n",
            "Requirement already satisfied: threadpoolctl>=2.0.0 in /usr/local/lib/python3.10/dist-packages (from scikit-learn>=0.20.0->librosa) (3.4.0)\n",
            "Requirement already satisfied: cffi>=1.0 in /usr/local/lib/python3.10/dist-packages (from soundfile>=0.12.1->librosa) (1.16.0)\n",
            "Requirement already satisfied: contourpy>=1.0.1 in /usr/local/lib/python3.10/dist-packages (from matplotlib->noisereduce) (1.2.1)\n",
            "Requirement already satisfied: cycler>=0.10 in /usr/local/lib/python3.10/dist-packages (from matplotlib->noisereduce) (0.12.1)\n",
            "Requirement already satisfied: fonttools>=4.22.0 in /usr/local/lib/python3.10/dist-packages (from matplotlib->noisereduce) (4.51.0)\n",
            "Requirement already satisfied: kiwisolver>=1.0.1 in /usr/local/lib/python3.10/dist-packages (from matplotlib->noisereduce) (1.4.5)\n",
            "Requirement already satisfied: pillow>=6.2.0 in /usr/local/lib/python3.10/dist-packages (from matplotlib->noisereduce) (9.4.0)\n",
            "Requirement already satisfied: pyparsing>=2.3.1 in /usr/local/lib/python3.10/dist-packages (from matplotlib->noisereduce) (3.1.2)\n",
            "Requirement already satisfied: python-dateutil>=2.7 in /usr/local/lib/python3.10/dist-packages (from matplotlib->noisereduce) (2.8.2)\n",
            "Requirement already satisfied: pycparser in /usr/local/lib/python3.10/dist-packages (from cffi>=1.0->soundfile>=0.12.1->librosa) (2.22)\n",
            "Requirement already satisfied: six>=1.5 in /usr/local/lib/python3.10/dist-packages (from python-dateutil>=2.7->matplotlib->noisereduce) (1.16.0)\n",
            "Requirement already satisfied: charset-normalizer<4,>=2 in /usr/local/lib/python3.10/dist-packages (from requests>=2.19.0->pooch>=1.0->librosa) (3.3.2)\n",
            "Requirement already satisfied: idna<4,>=2.5 in /usr/local/lib/python3.10/dist-packages (from requests>=2.19.0->pooch>=1.0->librosa) (3.7)\n",
            "Requirement already satisfied: urllib3<3,>=1.21.1 in /usr/local/lib/python3.10/dist-packages (from requests>=2.19.0->pooch>=1.0->librosa) (2.0.7)\n",
            "Requirement already satisfied: certifi>=2017.4.17 in /usr/local/lib/python3.10/dist-packages (from requests>=2.19.0->pooch>=1.0->librosa) (2024.2.2)\n"
          ]
        }
      ]
    },
    {
      "cell_type": "code",
      "source": [
        "from keras.models import Sequential\n",
        "from keras.layers import LSTM, Dense, InputLayer, Bidirectional, Dropout\n",
        "from keras.optimizers import Adam\n",
        "\n",
        "import matplotlib.pyplot as plt\n",
        "\n",
        "from sklearn.model_selection import train_test_split\n",
        "\n",
        "import numpy as np\n",
        "import librosa\n",
        "import noisereduce as nr"
      ],
      "metadata": {
        "id": "AqcPAWh3c8XA"
      },
      "execution_count": 2,
      "outputs": []
    },
    {
      "cell_type": "markdown",
      "source": [
        "## Step 2: Load Dataset"
      ],
      "metadata": {
        "id": "9EdCSl7Nk3fQ"
      }
    },
    {
      "cell_type": "code",
      "source": [
        "X = np.load('audio.npy')\n",
        "y = np.load('labels.npy')"
      ],
      "metadata": {
        "id": "I-dsxi-Rk_Gt"
      },
      "execution_count": 3,
      "outputs": []
    },
    {
      "cell_type": "markdown",
      "source": [
        "## Step 3: Split Data Into Training and Validation Sets"
      ],
      "metadata": {
        "id": "sEkb9cghlGfJ"
      }
    },
    {
      "cell_type": "code",
      "source": [
        "X_train, X_val, y_train, y_val = train_test_split(X, y, test_size=0.2, random_state=44)"
      ],
      "metadata": {
        "id": "ETO-rEollF4E"
      },
      "execution_count": 4,
      "outputs": []
    },
    {
      "cell_type": "markdown",
      "source": [
        "## Step 4: Function to Add Noise to Audio Data"
      ],
      "metadata": {
        "id": "KH4_MlYflTsx"
      }
    },
    {
      "cell_type": "code",
      "source": [
        "def add_noise(data, noise_factor=0.2):\n",
        "    noise = np.random.randn(*data.shape).astype(np.float32)\n",
        "    augmented_data = data + noise_factor * noise\n",
        "    return augmented_data"
      ],
      "metadata": {
        "id": "8PGrbHHklTJt"
      },
      "execution_count": 5,
      "outputs": []
    },
    {
      "cell_type": "markdown",
      "source": [
        "## Step 5: Add Noise to Training Data to Simulate Real-world Conditions"
      ],
      "metadata": {
        "id": "ulr60Qwsn9CU"
      }
    },
    {
      "cell_type": "code",
      "source": [
        "X_train_noisy = add_noise(X_train)"
      ],
      "metadata": {
        "id": "wk0KAzIHn9Qj"
      },
      "execution_count": 6,
      "outputs": []
    },
    {
      "cell_type": "markdown",
      "source": [
        "## Step 6: Build Model"
      ],
      "metadata": {
        "id": "-p1cZa9Tn_YF"
      }
    },
    {
      "cell_type": "code",
      "source": [
        "model = Sequential([\n",
        "    InputLayer(input_shape=(100, 13)),\n",
        "    Bidirectional(LSTM(64, return_sequences=True)),\n",
        "    Dropout(0.5),  # Dropout for regularization and to prevent overfitting\n",
        "    Dense(y.shape[2], activation='softmax')\n",
        "])"
      ],
      "metadata": {
        "id": "XlORkXPWn_id"
      },
      "execution_count": 7,
      "outputs": []
    },
    {
      "cell_type": "markdown",
      "source": [
        "## Step 7: Compile Model"
      ],
      "metadata": {
        "id": "KbzmWCKzoBOY"
      }
    },
    {
      "cell_type": "code",
      "source": [
        "model.compile(optimizer=Adam(learning_rate=0.001), loss='categorical_crossentropy', metrics=['accuracy'])"
      ],
      "metadata": {
        "id": "-8PytoczoBbj"
      },
      "execution_count": 8,
      "outputs": []
    },
    {
      "cell_type": "markdown",
      "source": [
        "## Step 8: Train  Model on Noisy Data\n"
      ],
      "metadata": {
        "id": "M_JRl7-lonlu"
      }
    },
    {
      "cell_type": "code",
      "source": [
        "history = model.fit(X_train_noisy, y_train, validation_data=(X_val, y_val), epochs=10, batch_size=32)"
      ],
      "metadata": {
        "colab": {
          "base_uri": "https://localhost:8080/"
        },
        "id": "ZPg9cRLeonuM",
        "outputId": "b7d774ce-b482-47ab-9b2a-54c157b3d022"
      },
      "execution_count": 9,
      "outputs": [
        {
          "output_type": "stream",
          "name": "stdout",
          "text": [
            "Epoch 1/10\n",
            "3/3 [==============================] - 10s 1s/step - loss: 1.7723 - accuracy: 0.0059 - val_loss: 1.6880 - val_accuracy: 0.0245\n",
            "Epoch 2/10\n",
            "3/3 [==============================] - 1s 260ms/step - loss: 1.6916 - accuracy: 0.0199 - val_loss: 1.6103 - val_accuracy: 0.0240\n",
            "Epoch 3/10\n",
            "3/3 [==============================] - 1s 202ms/step - loss: 1.6219 - accuracy: 0.0230 - val_loss: 1.5345 - val_accuracy: 0.0240\n",
            "Epoch 4/10\n",
            "3/3 [==============================] - 1s 345ms/step - loss: 1.5438 - accuracy: 0.0333 - val_loss: 1.4612 - val_accuracy: 0.0285\n",
            "Epoch 5/10\n",
            "3/3 [==============================] - 1s 332ms/step - loss: 1.4818 - accuracy: 0.0315 - val_loss: 1.3970 - val_accuracy: 0.0480\n",
            "Epoch 6/10\n",
            "3/3 [==============================] - 1s 286ms/step - loss: 1.4300 - accuracy: 0.0340 - val_loss: 1.3520 - val_accuracy: 0.0480\n",
            "Epoch 7/10\n",
            "3/3 [==============================] - 1s 309ms/step - loss: 1.3940 - accuracy: 0.0355 - val_loss: 1.3254 - val_accuracy: 0.0490\n",
            "Epoch 8/10\n",
            "3/3 [==============================] - 1s 269ms/step - loss: 1.3778 - accuracy: 0.0393 - val_loss: 1.3113 - val_accuracy: 0.0480\n",
            "Epoch 9/10\n",
            "3/3 [==============================] - 1s 237ms/step - loss: 1.3650 - accuracy: 0.0367 - val_loss: 1.3035 - val_accuracy: 0.0525\n",
            "Epoch 10/10\n",
            "3/3 [==============================] - 1s 245ms/step - loss: 1.3740 - accuracy: 0.0346 - val_loss: 1.2978 - val_accuracy: 0.0430\n"
          ]
        }
      ]
    },
    {
      "cell_type": "markdown",
      "source": [
        "## Step 9: Training and Validation Loss"
      ],
      "metadata": {
        "id": "WUPio55ScDd1"
      }
    },
    {
      "cell_type": "code",
      "source": [
        "plt.plot(history.history['loss'], label='train')\n",
        "plt.plot(history.history['val_loss'], label='validation')\n",
        "plt.title('Model Loss')\n",
        "plt.ylabel('Loss')\n",
        "plt.xlabel('Epoch')\n",
        "plt.legend()\n",
        "plt.show()"
      ],
      "metadata": {
        "colab": {
          "base_uri": "https://localhost:8080/",
          "height": 472
        },
        "id": "dWiTT6irbXbv",
        "outputId": "8f44d5b4-576d-4eea-86ce-3ee80bd24743"
      },
      "execution_count": 10,
      "outputs": [
        {
          "output_type": "display_data",
          "data": {
            "text/plain": [
              "<Figure size 640x480 with 1 Axes>"
            ],
            "image/png": "[encoded data removed]"
          },
          "metadata": {}
        }
      ]
    },
    {
      "cell_type": "markdown",
      "source": [
        "## Step 10: Save Trained Model"
      ],
      "metadata": {
        "id": "DZCcoPxfcryf"
      }
    },
    {
      "cell_type": "code",
      "source": [
        "model.save('robust_asr_model.keras')"
      ],
      "metadata": {
        "id": "wUK8DN4ioDwL"
      },
      "execution_count": 11,
      "outputs": []
    }
  ]
}