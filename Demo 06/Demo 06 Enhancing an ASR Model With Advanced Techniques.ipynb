{
  "nbformat": 4,
  "nbformat_minor": 0,
  "metadata": {
    "colab": {
      "provenance": []
    },
    "kernelspec": {
      "name": "python3",
      "display_name": "Python 3"
    },
    "language_info": {
      "name": "python"
    }
  },
  "cells": [
    {
      "cell_type": "markdown",
      "source": [
        "## Step 1: Setup Python Packages"
      ],
      "metadata": {
        "id": "lS7OuCRaknWU"
      }
    },
    {
      "cell_type": "code",
      "source": [
        "!pip install transformers torchaudio torch jiwer"
      ],
      "metadata": {
        "id": "AqcPAWh3c8XA",
        "colab": {
          "base_uri": "https://localhost:8080/"
        },
        "outputId": "56d0cecc-81f6-4619-c57e-2e5a05b1c0e4"
      },
      "execution_count": 1,
      "outputs": [
        {
          "output_type": "stream",
          "name": "stdout",
          "text": [
            "Requirement already satisfied: transformers in /usr/local/lib/python3.10/dist-packages (4.40.0)\n",
            "Requirement already satisfied: torchaudio in /usr/local/lib/python3.10/dist-packages (2.2.1+cu121)\n",
            "Requirement already satisfied: torch in /usr/local/lib/python3.10/dist-packages (2.2.1+cu121)\n",
            "Requirement already satisfied: jiwer in /usr/local/lib/python3.10/dist-packages (3.0.3)\n",
            "Requirement already satisfied: filelock in /usr/local/lib/python3.10/dist-packages (from transformers) (3.13.4)\n",
            "Requirement already satisfied: huggingface-hub<1.0,>=0.19.3 in /usr/local/lib/python3.10/dist-packages (from transformers) (0.20.3)\n",
            "Requirement already satisfied: numpy>=1.17 in /usr/local/lib/python3.10/dist-packages (from transformers) (1.25.2)\n",
            "Requirement already satisfied: packaging>=20.0 in /usr/local/lib/python3.10/dist-packages (from transformers) (24.0)\n",
            "Requirement already satisfied: pyyaml>=5.1 in /usr/local/lib/python3.10/dist-packages (from transformers) (6.0.1)\n",
            "Requirement already satisfied: regex!=2019.12.17 in /usr/local/lib/python3.10/dist-packages (from transformers) (2023.12.25)\n",
            "Requirement already satisfied: requests in /usr/local/lib/python3.10/dist-packages (from transformers) (2.31.0)\n",
            "Requirement already satisfied: tokenizers<0.20,>=0.19 in /usr/local/lib/python3.10/dist-packages (from transformers) (0.19.1)\n",
            "Requirement already satisfied: safetensors>=0.4.1 in /usr/local/lib/python3.10/dist-packages (from transformers) (0.4.3)\n",
            "Requirement already satisfied: tqdm>=4.27 in /usr/local/lib/python3.10/dist-packages (from transformers) (4.66.2)\n",
            "Requirement already satisfied: typing-extensions>=4.8.0 in /usr/local/lib/python3.10/dist-packages (from torch) (4.11.0)\n",
            "Requirement already satisfied: sympy in /usr/local/lib/python3.10/dist-packages (from torch) (1.12)\n",
            "Requirement already satisfied: networkx in /usr/local/lib/python3.10/dist-packages (from torch) (3.3)\n",
            "Requirement already satisfied: jinja2 in /usr/local/lib/python3.10/dist-packages (from torch) (3.1.3)\n",
            "Requirement already satisfied: fsspec in /usr/local/lib/python3.10/dist-packages (from torch) (2023.6.0)\n",
            "Requirement already satisfied: nvidia-cuda-nvrtc-cu12==12.1.105 in /usr/local/lib/python3.10/dist-packages (from torch) (12.1.105)\n",
            "Requirement already satisfied: nvidia-cuda-runtime-cu12==12.1.105 in /usr/local/lib/python3.10/dist-packages (from torch) (12.1.105)\n",
            "Requirement already satisfied: nvidia-cuda-cupti-cu12==12.1.105 in /usr/local/lib/python3.10/dist-packages (from torch) (12.1.105)\n",
            "Requirement already satisfied: nvidia-cudnn-cu12==8.9.2.26 in /usr/local/lib/python3.10/dist-packages (from torch) (8.9.2.26)\n",
            "Requirement already satisfied: nvidia-cublas-cu12==12.1.3.1 in /usr/local/lib/python3.10/dist-packages (from torch) (12.1.3.1)\n",
            "Requirement already satisfied: nvidia-cufft-cu12==11.0.2.54 in /usr/local/lib/python3.10/dist-packages (from torch) (11.0.2.54)\n",
            "Requirement already satisfied: nvidia-curand-cu12==10.3.2.106 in /usr/local/lib/python3.10/dist-packages (from torch) (10.3.2.106)\n",
            "Requirement already satisfied: nvidia-cusolver-cu12==11.4.5.107 in /usr/local/lib/python3.10/dist-packages (from torch) (11.4.5.107)\n",
            "Requirement already satisfied: nvidia-cusparse-cu12==12.1.0.106 in /usr/local/lib/python3.10/dist-packages (from torch) (12.1.0.106)\n",
            "Requirement already satisfied: nvidia-nccl-cu12==2.19.3 in /usr/local/lib/python3.10/dist-packages (from torch) (2.19.3)\n",
            "Requirement already satisfied: nvidia-nvtx-cu12==12.1.105 in /usr/local/lib/python3.10/dist-packages (from torch) (12.1.105)\n",
            "Requirement already satisfied: triton==2.2.0 in /usr/local/lib/python3.10/dist-packages (from torch) (2.2.0)\n",
            "Requirement already satisfied: nvidia-nvjitlink-cu12 in /usr/local/lib/python3.10/dist-packages (from nvidia-cusolver-cu12==11.4.5.107->torch) (12.4.127)\n",
            "Requirement already satisfied: click<9.0.0,>=8.1.3 in /usr/local/lib/python3.10/dist-packages (from jiwer) (8.1.7)\n",
            "Requirement already satisfied: rapidfuzz<4,>=3 in /usr/local/lib/python3.10/dist-packages (from jiwer) (3.8.1)\n",
            "Requirement already satisfied: MarkupSafe>=2.0 in /usr/local/lib/python3.10/dist-packages (from jinja2->torch) (2.1.5)\n",
            "Requirement already satisfied: charset-normalizer<4,>=2 in /usr/local/lib/python3.10/dist-packages (from requests->transformers) (3.3.2)\n",
            "Requirement already satisfied: idna<4,>=2.5 in /usr/local/lib/python3.10/dist-packages (from requests->transformers) (3.7)\n",
            "Requirement already satisfied: urllib3<3,>=1.21.1 in /usr/local/lib/python3.10/dist-packages (from requests->transformers) (2.0.7)\n",
            "Requirement already satisfied: certifi>=2017.4.17 in /usr/local/lib/python3.10/dist-packages (from requests->transformers) (2024.2.2)\n",
            "Requirement already satisfied: mpmath>=0.19 in /usr/local/lib/python3.10/dist-packages (from sympy->torch) (1.3.0)\n"
          ]
        }
      ]
    },
    {
      "cell_type": "code",
      "source": [
        "import torch\n",
        "import torchaudio\n",
        "from transformers import Wav2Vec2ForCTC, Wav2Vec2Processor\n",
        "\n",
        "import os\n",
        "import re\n",
        "import pandas as pd\n",
        "\n",
        "from jiwer import wer\n",
        "import matplotlib.pyplot as plt"
      ],
      "metadata": {
        "id": "SjnTavfkn3BD"
      },
      "execution_count": 2,
      "outputs": []
    },
    {
      "cell_type": "markdown",
      "source": [
        "## Step 2: Load Dataset"
      ],
      "metadata": {
        "id": "9EdCSl7Nk3fQ"
      }
    },
    {
      "cell_type": "code",
      "source": [
        "df = pd.read_csv('Online Content.csv', usecols=['title'])"
      ],
      "metadata": {
        "id": "I-dsxi-Rk_Gt"
      },
      "execution_count": 3,
      "outputs": []
    },
    {
      "cell_type": "markdown",
      "source": [
        "## Step 3: Load Processor and Model From Hugging Face"
      ],
      "metadata": {
        "id": "sEkb9cghlGfJ"
      }
    },
    {
      "cell_type": "code",
      "source": [
        "processor = Wav2Vec2Processor.from_pretrained(\"facebook/wav2vec2-large-960h\")\n",
        "model = Wav2Vec2ForCTC.from_pretrained(\"facebook/wav2vec2-large-960h\")"
      ],
      "metadata": {
        "id": "ETO-rEollF4E",
        "colab": {
          "base_uri": "https://localhost:8080/"
        },
        "outputId": "eebb46bd-b81a-41b2-8f23-96c2c533f1c6"
      },
      "execution_count": 4,
      "outputs": [
        {
          "output_type": "stream",
          "name": "stderr",
          "text": [
            "/usr/local/lib/python3.10/dist-packages/huggingface_hub/utils/_token.py:88: UserWarning: \n",
            "The secret `HF_TOKEN` does not exist in your Colab secrets.\n",
            "To authenticate with the Hugging Face Hub, create a token in your settings tab (https://huggingface.co/settings/tokens), set it as secret in your Google Colab and restart your session.\n",
            "You will be able to reuse this secret in all of your notebooks.\n",
            "Please note that authentication is recommended but still optional to access public models or datasets.\n",
            "  warnings.warn(\n",
            "Some weights of the model checkpoint at facebook/wav2vec2-large-960h were not used when initializing Wav2Vec2ForCTC: ['wav2vec2.encoder.pos_conv_embed.conv.weight_g', 'wav2vec2.encoder.pos_conv_embed.conv.weight_v']\n",
            "- This IS expected if you are initializing Wav2Vec2ForCTC from the checkpoint of a model trained on another task or with another architecture (e.g. initializing a BertForSequenceClassification model from a BertForPreTraining model).\n",
            "- This IS NOT expected if you are initializing Wav2Vec2ForCTC from the checkpoint of a model that you expect to be exactly identical (initializing a BertForSequenceClassification model from a BertForSequenceClassification model).\n",
            "Some weights of Wav2Vec2ForCTC were not initialized from the model checkpoint at facebook/wav2vec2-large-960h and are newly initialized: ['wav2vec2.encoder.pos_conv_embed.conv.parametrizations.weight.original0', 'wav2vec2.encoder.pos_conv_embed.conv.parametrizations.weight.original1', 'wav2vec2.masked_spec_embed']\n",
            "You should probably TRAIN this model on a down-stream task to be able to use it for predictions and inference.\n"
          ]
        }
      ]
    },
    {
      "cell_type": "markdown",
      "source": [
        "## Step 4: Sort Audio Files"
      ],
      "metadata": {
        "id": "KH4_MlYflTsx"
      }
    },
    {
      "cell_type": "code",
      "source": [
        "files = [f for f in os.listdir('/content/AudioData') if os.path.isfile(os.path.join('/content/AudioData', f))]"
      ],
      "metadata": {
        "id": "8PGrbHHklTJt"
      },
      "execution_count": 5,
      "outputs": []
    },
    {
      "cell_type": "code",
      "source": [
        "def extract_number(file_path):\n",
        "    match = re.search(r'\\d+', file_path)\n",
        "    return int(match.group()) if match else None"
      ],
      "metadata": {
        "id": "q_McGjTZoD_A"
      },
      "execution_count": 6,
      "outputs": []
    },
    {
      "cell_type": "code",
      "source": [
        "audios = []\n",
        "\n",
        "for i in files:\n",
        "  audios.append('/content/AudioData/' + i)"
      ],
      "metadata": {
        "id": "ZLZcfmUgoEHm"
      },
      "execution_count": 7,
      "outputs": []
    },
    {
      "cell_type": "code",
      "source": [
        "sorted_file_paths = sorted(audios, key=extract_number)"
      ],
      "metadata": {
        "id": "C8g9ZgCToKYv"
      },
      "execution_count": 8,
      "outputs": []
    },
    {
      "cell_type": "markdown",
      "source": [
        "## Step 5: Load and Preprocess Audio Files\n"
      ],
      "metadata": {
        "id": "YSGnBGcjor30"
      }
    },
    {
      "cell_type": "code",
      "source": [
        "def preprocess_audio(file_path, processor, model):\n",
        "\n",
        "    speech, sample_rate = torchaudio.load(file_path)\n",
        "\n",
        "    resampler = torchaudio.transforms.Resample(orig_freq=sample_rate, new_freq=16_000)\n",
        "    speech = resampler(speech)\n",
        "\n",
        "    input_values = processor(speech.squeeze().numpy(), return_tensors=\"pt\", sampling_rate=16_000).input_values\n",
        "    with torch.no_grad():\n",
        "        logits = model(input_values).logits\n",
        "\n",
        "    predicted_ids = torch.argmax(logits, dim=-1)\n",
        "    transcription = processor.decode(predicted_ids[0])\n",
        "\n",
        "    return transcription"
      ],
      "metadata": {
        "id": "lOj1Evi6osA2"
      },
      "execution_count": 9,
      "outputs": []
    },
    {
      "cell_type": "markdown",
      "source": [
        "## Step 6: Tokenize and Predict Using Processor and Model"
      ],
      "metadata": {
        "id": "ulr60Qwsn9CU"
      }
    },
    {
      "cell_type": "code",
      "source": [
        "transcriptions = []\n",
        "\n",
        "for file_path in sorted_file_paths:\n",
        "    try:\n",
        "        transcription = preprocess_audio(file_path, processor, model)\n",
        "        transcriptions.append(transcription)\n",
        "    except Exception as e:\n",
        "        print(f\"Error processing {file_path}: {e}\")\n",
        "        transcriptions.append(None)"
      ],
      "metadata": {
        "id": "wk0KAzIHn9Qj"
      },
      "execution_count": 10,
      "outputs": []
    },
    {
      "cell_type": "markdown",
      "source": [
        "## Step 7: Calculate WER Average"
      ],
      "metadata": {
        "id": "-p1cZa9Tn_YF"
      }
    },
    {
      "cell_type": "code",
      "source": [
        "actual_transcriptions = df.title\n",
        "predicted_transcriptions = transcriptions\n",
        "\n",
        "actual_transcriptions = [transcription.lower() for transcription in actual_transcriptions]\n",
        "predicted_transcriptions = [transcription.lower() for transcription in predicted_transcriptions]\n",
        "\n",
        "wers = [wer(actual, predicted) for actual, predicted in zip(actual_transcriptions, predicted_transcriptions)]\n",
        "\n",
        "average_wer = sum(wers) / len(wers)\n",
        "print(\"Average WER:\", average_wer)"
      ],
      "metadata": {
        "id": "XlORkXPWn_id",
        "colab": {
          "base_uri": "https://localhost:8080/"
        },
        "outputId": "1affced7-db6c-409a-a9eb-bb41ae846237"
      },
      "execution_count": 11,
      "outputs": [
        {
          "output_type": "stream",
          "name": "stdout",
          "text": [
            "Average WER: 0.17759523809523806\n"
          ]
        }
      ]
    },
    {
      "cell_type": "markdown",
      "source": [
        "## Step 8: Plotting WER"
      ],
      "metadata": {
        "id": "KbzmWCKzoBOY"
      }
    },
    {
      "cell_type": "code",
      "source": [
        "plt.plot(wers, label='WER per sample')\n",
        "plt.xlabel('Sample Index')\n",
        "plt.ylabel('WER')\n",
        "plt.title('Word Error Rate (WER) per Sample')\n",
        "plt.legend()\n",
        "plt.show()"
      ],
      "metadata": {
        "id": "-8PytoczoBbj",
        "colab": {
          "base_uri": "https://localhost:8080/",
          "height": 472
        },
        "outputId": "c7420766-b3c3-4c8a-b8bd-3fd4b2ce4001"
      },
      "execution_count": 12,
      "outputs": [
        {
          "output_type": "display_data",
          "data": {
            "text/plain": [
              "<Figure size 640x480 with 1 Axes>"
            ],
            "image/png": "[encoded data removed]"
          },
          "metadata": {}
        }
      ]
    },
    {
      "cell_type": "markdown",
      "source": [
        "### Interpretation and Considerations:\n",
        "* The average Word Error Rate (WER) across all samples is approximately **0.178**, meaning that about **17.8%** of the words in each transcription were incorrect, substituted, deleted, or extra.\n",
        "* A **17.8%** error rate is acceptable for general applications, such as generating video subtitles.\n",
        "* Improving accuracy involves collecting more training data and adjusting model parameters."
      ],
      "metadata": {
        "id": "2Cmr-GNrXSXl"
      }
    }
  ]
}