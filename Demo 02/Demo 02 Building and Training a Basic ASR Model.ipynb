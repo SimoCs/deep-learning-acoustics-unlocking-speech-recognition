{
  "nbformat": 4,
  "nbformat_minor": 0,
  "metadata": {
    "colab": {
      "provenance": []
    },
    "kernelspec": {
      "name": "python3",
      "display_name": "Python 3"
    },
    "language_info": {
      "name": "python"
    }
  },
  "cells": [
    {
      "cell_type": "markdown",
      "source": [
        "## Step 1: Define Model"
      ],
      "metadata": {
        "id": "O0u8MdCwo4rC"
      }
    },
    {
      "cell_type": "code",
      "source": [
        "from keras.models import Sequential\n",
        "from keras.layers import LSTM, Dense, InputLayer, Bidirectional, TimeDistributed\n",
        "\n",
        "from sklearn.model_selection import train_test_split\n",
        "\n",
        "import numpy as np"
      ],
      "metadata": {
        "id": "gMtfB7C0VsAv"
      },
      "execution_count": 7,
      "outputs": []
    },
    {
      "cell_type": "code",
      "execution_count": 8,
      "metadata": {
        "id": "UKo2UtIJnVnt"
      },
      "outputs": [],
      "source": [
        "model = Sequential([\n",
        "    InputLayer(input_shape=(100, 13)),\n",
        "    Bidirectional(LSTM(64, return_sequences=True)),\n",
        "    TimeDistributed(Dense(100, activation='softmax'))\n",
        "])"
      ]
    },
    {
      "cell_type": "code",
      "source": [
        "model.compile(optimizer='adam', loss='categorical_crossentropy', metrics=['accuracy'])\n",
        "model.summary()"
      ],
      "metadata": {
        "colab": {
          "base_uri": "https://localhost:8080/"
        },
        "id": "F4u3-AZAVxSr",
        "outputId": "551003ef-6b9a-480c-b5cb-831738bf8121"
      },
      "execution_count": 9,
      "outputs": [
        {
          "output_type": "stream",
          "name": "stdout",
          "text": [
            "Model: \"sequential_1\"\n",
            "_________________________________________________________________\n",
            " Layer (type)                Output Shape              Param #   \n",
            "=================================================================\n",
            " bidirectional_1 (Bidirecti  (None, 100, 128)          39936     \n",
            " onal)                                                           \n",
            "                                                                 \n",
            " time_distributed_1 (TimeDi  (None, 100, 100)          12900     \n",
            " stributed)                                                      \n",
            "                                                                 \n",
            "=================================================================\n",
            "Total params: 52836 (206.39 KB)\n",
            "Trainable params: 52836 (206.39 KB)\n",
            "Non-trainable params: 0 (0.00 Byte)\n",
            "_________________________________________________________________\n"
          ]
        }
      ]
    },
    {
      "cell_type": "markdown",
      "source": [
        "## Step 2: Prepare Data"
      ],
      "metadata": {
        "id": "R-7g2XTrpJa7"
      }
    },
    {
      "cell_type": "code",
      "source": [
        "X = np.load('audio.npy')\n",
        "y = np.load('labels.npy')\n",
        "\n",
        "X_train, X_val, y_train, y_val = train_test_split(X, y, test_size=0.2, random_state=44)"
      ],
      "metadata": {
        "id": "o8jj3jnKpk2D"
      },
      "execution_count": 10,
      "outputs": []
    },
    {
      "cell_type": "markdown",
      "source": [
        "## Step 3: Train Model"
      ],
      "metadata": {
        "id": "YFH4e3F1pO28"
      }
    },
    {
      "cell_type": "code",
      "source": [
        "history = model.fit(X_train, y_train, validation_data=(X_val, y_val), epochs=10, batch_size=32)"
      ],
      "metadata": {
        "colab": {
          "base_uri": "https://localhost:8080/"
        },
        "id": "_-S4BiUXpPEH",
        "outputId": "003e01ed-d7de-4d7f-d97b-72c9323a0215"
      },
      "execution_count": 11,
      "outputs": [
        {
          "output_type": "stream",
          "name": "stdout",
          "text": [
            "Epoch 1/10\n",
            "3/3 [==============================] - 10s 1s/step - loss: 1.7536 - accuracy: 0.0325 - val_loss: 1.6736 - val_accuracy: 0.0335\n",
            "Epoch 2/10\n",
            "3/3 [==============================] - 0s 129ms/step - loss: 1.6644 - accuracy: 0.0375 - val_loss: 1.5878 - val_accuracy: 0.0335\n",
            "Epoch 3/10\n",
            "3/3 [==============================] - 0s 92ms/step - loss: 1.5759 - accuracy: 0.0376 - val_loss: 1.4996 - val_accuracy: 0.0340\n",
            "Epoch 4/10\n",
            "3/3 [==============================] - 0s 91ms/step - loss: 1.4856 - accuracy: 0.0379 - val_loss: 1.4100 - val_accuracy: 0.0340\n",
            "Epoch 5/10\n",
            "3/3 [==============================] - 0s 128ms/step - loss: 1.3942 - accuracy: 0.0377 - val_loss: 1.3271 - val_accuracy: 0.0340\n",
            "Epoch 6/10\n",
            "3/3 [==============================] - 0s 100ms/step - loss: 1.3124 - accuracy: 0.0377 - val_loss: 1.2602 - val_accuracy: 0.0340\n",
            "Epoch 7/10\n",
            "3/3 [==============================] - 0s 113ms/step - loss: 1.2504 - accuracy: 0.0377 - val_loss: 1.2129 - val_accuracy: 0.0335\n",
            "Epoch 8/10\n",
            "3/3 [==============================] - 0s 114ms/step - loss: 1.2072 - accuracy: 0.0385 - val_loss: 1.1813 - val_accuracy: 0.0420\n",
            "Epoch 9/10\n",
            "3/3 [==============================] - 0s 103ms/step - loss: 1.1788 - accuracy: 0.0428 - val_loss: 1.1607 - val_accuracy: 0.0455\n",
            "Epoch 10/10\n",
            "3/3 [==============================] - 0s 104ms/step - loss: 1.1600 - accuracy: 0.0429 - val_loss: 1.1491 - val_accuracy: 0.0455\n"
          ]
        }
      ]
    },
    {
      "cell_type": "markdown",
      "source": [
        "## Step 4: Save Model"
      ],
      "metadata": {
        "id": "_JQcru5Yq0og"
      }
    },
    {
      "cell_type": "code",
      "source": [
        "model.save('ASR_model.keras')"
      ],
      "metadata": {
        "id": "A3UeMzvcq6UT"
      },
      "execution_count": 12,
      "outputs": []
    }
  ]
}