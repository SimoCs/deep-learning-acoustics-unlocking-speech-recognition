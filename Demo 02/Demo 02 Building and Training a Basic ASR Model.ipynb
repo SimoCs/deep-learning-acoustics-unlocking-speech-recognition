{
  "nbformat": 4,
  "nbformat_minor": 0,
  "metadata": {
    "colab": {
      "provenance": []
    },
    "kernelspec": {
      "name": "python3",
      "display_name": "Python 3"
    },
    "language_info": {
      "name": "python"
    }
  },
  "cells": [
    {
      "cell_type": "markdown",
      "source": [
        "## Step 1: Define Model"
      ],
      "metadata": {
        "id": "O0u8MdCwo4rC"
      }
    },
    {
      "cell_type": "code",
      "source": [
        "from keras.models import Sequential\n",
        "from keras.layers import LSTM, Dense, InputLayer, Bidirectional, TimeDistributed\n",
        "\n",
        "from sklearn.model_selection import train_test_split\n",
        "\n",
        "import numpy as np"
      ],
      "metadata": {
        "id": "gMtfB7C0VsAv"
      },
      "execution_count": 1,
      "outputs": []
    },
    {
      "cell_type": "code",
      "execution_count": 2,
      "metadata": {
        "id": "UKo2UtIJnVnt"
      },
      "outputs": [],
      "source": [
        "model = Sequential([\n",
        "    InputLayer(input_shape=(100, 13)),\n",
        "    Bidirectional(LSTM(64, return_sequences=True)),\n",
        "    TimeDistributed(Dense(100, activation='softmax'))\n",
        "])"
      ]
    },
    {
      "cell_type": "code",
      "source": [
        "model.compile(optimizer='adam', loss='categorical_crossentropy', metrics=['accuracy'])\n",
        "model.summary()"
      ],
      "metadata": {
        "colab": {
          "base_uri": "https://localhost:8080/"
        },
        "id": "F4u3-AZAVxSr",
        "outputId": "ef84de8d-0fe2-42e3-b9d6-d391cb0f7aef"
      },
      "execution_count": 3,
      "outputs": [
        {
          "output_type": "stream",
          "name": "stdout",
          "text": [
            "Model: \"sequential\"\n",
            "_________________________________________________________________\n",
            " Layer (type)                Output Shape              Param #   \n",
            "=================================================================\n",
            " bidirectional (Bidirection  (None, 100, 128)          39936     \n",
            " al)                                                             \n",
            "                                                                 \n",
            " time_distributed (TimeDist  (None, 100, 100)          12900     \n",
            " ributed)                                                        \n",
            "                                                                 \n",
            "=================================================================\n",
            "Total params: 52836 (206.39 KB)\n",
            "Trainable params: 52836 (206.39 KB)\n",
            "Non-trainable params: 0 (0.00 Byte)\n",
            "_________________________________________________________________\n"
          ]
        }
      ]
    },
    {
      "cell_type": "markdown",
      "source": [
        "## Step 2: Prepare Data"
      ],
      "metadata": {
        "id": "R-7g2XTrpJa7"
      }
    },
    {
      "cell_type": "code",
      "source": [
        "X = np.load('audio.npy')\n",
        "y = np.load('labels.npy')\n",
        "\n",
        "X_train, X_val, y_train, y_val = train_test_split(X, y, test_size=0.2, random_state=44)"
      ],
      "metadata": {
        "id": "o8jj3jnKpk2D"
      },
      "execution_count": 4,
      "outputs": []
    },
    {
      "cell_type": "markdown",
      "source": [
        "## Step 3: Train Model"
      ],
      "metadata": {
        "id": "YFH4e3F1pO28"
      }
    },
    {
      "cell_type": "code",
      "source": [
        "history = model.fit(X_train, y_train, validation_data=(X_val, y_val), epochs=10, batch_size=32)"
      ],
      "metadata": {
        "colab": {
          "base_uri": "https://localhost:8080/"
        },
        "id": "_-S4BiUXpPEH",
        "outputId": "7054731e-ba84-4743-fc69-9485eb36d647"
      },
      "execution_count": 5,
      "outputs": [
        {
          "output_type": "stream",
          "name": "stdout",
          "text": [
            "Epoch 1/10\n",
            "3/3 [==============================] - 12s 673ms/step - loss: 1.7664 - accuracy: 2.5000e-04 - val_loss: 1.6865 - val_accuracy: 0.0020\n",
            "Epoch 2/10\n",
            "3/3 [==============================] - 0s 133ms/step - loss: 1.6731 - accuracy: 0.0122 - val_loss: 1.5960 - val_accuracy: 0.0350\n",
            "Epoch 3/10\n",
            "3/3 [==============================] - 0s 126ms/step - loss: 1.5812 - accuracy: 0.0413 - val_loss: 1.5016 - val_accuracy: 0.0385\n",
            "Epoch 4/10\n",
            "3/3 [==============================] - 0s 111ms/step - loss: 1.4823 - accuracy: 0.0424 - val_loss: 1.4058 - val_accuracy: 0.0420\n",
            "Epoch 5/10\n",
            "3/3 [==============================] - 0s 130ms/step - loss: 1.3846 - accuracy: 0.0425 - val_loss: 1.3177 - val_accuracy: 0.0425\n",
            "Epoch 6/10\n",
            "3/3 [==============================] - 0s 132ms/step - loss: 1.2990 - accuracy: 0.0396 - val_loss: 1.2486 - val_accuracy: 0.0395\n",
            "Epoch 7/10\n",
            "3/3 [==============================] - 0s 114ms/step - loss: 1.2337 - accuracy: 0.0384 - val_loss: 1.2039 - val_accuracy: 0.0370\n",
            "Epoch 8/10\n",
            "3/3 [==============================] - 0s 111ms/step - loss: 1.1938 - accuracy: 0.0388 - val_loss: 1.1771 - val_accuracy: 0.0400\n",
            "Epoch 9/10\n",
            "3/3 [==============================] - 0s 108ms/step - loss: 1.1699 - accuracy: 0.0382 - val_loss: 1.1593 - val_accuracy: 0.0440\n",
            "Epoch 10/10\n",
            "3/3 [==============================] - 0s 118ms/step - loss: 1.1542 - accuracy: 0.0444 - val_loss: 1.1472 - val_accuracy: 0.0455\n"
          ]
        }
      ]
    },
    {
      "cell_type": "markdown",
      "source": [
        "## Step 4: Save Model"
      ],
      "metadata": {
        "id": "_JQcru5Yq0og"
      }
    },
    {
      "cell_type": "code",
      "source": [
        "model.save('ASR_model.keras')"
      ],
      "metadata": {
        "id": "A3UeMzvcq6UT"
      },
      "execution_count": 6,
      "outputs": []
    }
  ]
}