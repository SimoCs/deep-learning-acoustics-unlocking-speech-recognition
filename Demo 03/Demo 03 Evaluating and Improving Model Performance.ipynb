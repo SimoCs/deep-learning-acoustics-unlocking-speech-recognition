{
  "nbformat": 4,
  "nbformat_minor": 0,
  "metadata": {
    "colab": {
      "provenance": []
    },
    "kernelspec": {
      "name": "python3",
      "display_name": "Python 3"
    },
    "language_info": {
      "name": "python"
    }
  },
  "cells": [
    {
      "cell_type": "markdown",
      "source": [
        "## Step 1: Load Existing Model"
      ],
      "metadata": {
        "id": "4Z0YFD0JpKfp"
      }
    },
    {
      "cell_type": "code",
      "source": [
        "from keras.models import load_model, Sequential\n",
        "from keras.layers import Dropout, LSTM, Dense\n",
        "from keras.optimizers import Adam\n",
        "\n",
        "from sklearn.model_selection import train_test_split\n",
        "import numpy as np"
      ],
      "metadata": {
        "id": "X6U6jpv3pQ4v"
      },
      "execution_count": 1,
      "outputs": []
    },
    {
      "cell_type": "code",
      "source": [
        "model = load_model('ASR_model.keras')\n",
        "model.summary()"
      ],
      "metadata": {
        "colab": {
          "base_uri": "https://localhost:8080/"
        },
        "id": "iW-QdC7vve_l",
        "outputId": "25385eb0-60fa-4e35-b744-fdce800fb8e6"
      },
      "execution_count": 2,
      "outputs": [
        {
          "output_type": "stream",
          "name": "stdout",
          "text": [
            "Model: \"sequential\"\n",
            "_________________________________________________________________\n",
            " Layer (type)                Output Shape              Param #   \n",
            "=================================================================\n",
            " bidirectional (Bidirection  (None, 100, 128)          39936     \n",
            " al)                                                             \n",
            "                                                                 \n",
            " time_distributed (TimeDist  (None, 100, 100)          12900     \n",
            " ributed)                                                        \n",
            "                                                                 \n",
            "=================================================================\n",
            "Total params: 52836 (206.39 KB)\n",
            "Trainable params: 52836 (206.39 KB)\n",
            "Non-trainable params: 0 (0.00 Byte)\n",
            "_________________________________________________________________\n"
          ]
        }
      ]
    },
    {
      "cell_type": "markdown",
      "source": [
        "## Step 2: Adjust Architecture"
      ],
      "metadata": {
        "id": "IeaEnDEXpWn2"
      }
    },
    {
      "cell_type": "code",
      "execution_count": 3,
      "metadata": {
        "id": "-gI5CNA4s3Zq"
      },
      "outputs": [],
      "source": [
        "model_new = Sequential()\n",
        "\n",
        "for layer in model.layers[:-1]:\n",
        "    model_new.add(layer)\n",
        "    if isinstance(layer, LSTM):\n",
        "        # Add dropout after each LSTM layer\n",
        "        model_new.add(Dropout(0.5))\n",
        "\n",
        "model_new.add(Dense(100, activation='softmax'))"
      ]
    },
    {
      "cell_type": "markdown",
      "source": [
        "## Step 3: Prepare Data"
      ],
      "metadata": {
        "id": "TUVMa4GzplLu"
      }
    },
    {
      "cell_type": "code",
      "source": [
        "X = np.load('audio.npy')\n",
        "y = np.load('labels.npy')\n",
        "\n",
        "X_train, X_val, y_train, y_val = train_test_split(X, y, test_size=0.2, random_state=44)"
      ],
      "metadata": {
        "id": "lC3tGfK0oOhv"
      },
      "execution_count": 4,
      "outputs": []
    },
    {
      "cell_type": "markdown",
      "source": [
        "## Step 4: Compile and Retrain Model"
      ],
      "metadata": {
        "id": "-a3v-KtCptYs"
      }
    },
    {
      "cell_type": "code",
      "source": [
        "model_new.compile(optimizer=Adam(learning_rate=0.001), loss='categorical_crossentropy', metrics=['accuracy'])"
      ],
      "metadata": {
        "id": "_GoUzAL1p3AP"
      },
      "execution_count": 5,
      "outputs": []
    },
    {
      "cell_type": "code",
      "source": [
        "history = model_new.fit(X_train, y_train, validation_data=(X_val, y_val), epochs=10, batch_size=32)"
      ],
      "metadata": {
        "id": "uRl9Px-KvvbO",
        "colab": {
          "base_uri": "https://localhost:8080/"
        },
        "outputId": "969efd31-4211-4f39-bfc7-6e42bcbcd86e"
      },
      "execution_count": 6,
      "outputs": [
        {
          "output_type": "stream",
          "name": "stdout",
          "text": [
            "Epoch 1/10\n",
            "3/3 [==============================] - 7s 717ms/step - loss: 1.9726 - accuracy: 0.0000e+00 - val_loss: 1.8434 - val_accuracy: 0.0000e+00\n",
            "Epoch 2/10\n",
            "3/3 [==============================] - 0s 131ms/step - loss: 1.8127 - accuracy: 0.0000e+00 - val_loss: 1.7056 - val_accuracy: 0.0000e+00\n",
            "Epoch 3/10\n",
            "3/3 [==============================] - 0s 119ms/step - loss: 1.6794 - accuracy: 0.0019 - val_loss: 1.5901 - val_accuracy: 0.0255\n",
            "Epoch 4/10\n",
            "3/3 [==============================] - 0s 119ms/step - loss: 1.5680 - accuracy: 0.0275 - val_loss: 1.4954 - val_accuracy: 0.0460\n",
            "Epoch 5/10\n",
            "3/3 [==============================] - 0s 127ms/step - loss: 1.4778 - accuracy: 0.0435 - val_loss: 1.4217 - val_accuracy: 0.0400\n",
            "Epoch 6/10\n",
            "3/3 [==============================] - 1s 196ms/step - loss: 1.4102 - accuracy: 0.0430 - val_loss: 1.3700 - val_accuracy: 0.0400\n",
            "Epoch 7/10\n",
            "3/3 [==============================] - 1s 189ms/step - loss: 1.3634 - accuracy: 0.0434 - val_loss: 1.3398 - val_accuracy: 0.0405\n",
            "Epoch 8/10\n",
            "3/3 [==============================] - 1s 195ms/step - loss: 1.3362 - accuracy: 0.0434 - val_loss: 1.3161 - val_accuracy: 0.0410\n",
            "Epoch 9/10\n",
            "3/3 [==============================] - 1s 181ms/step - loss: 1.3122 - accuracy: 0.0424 - val_loss: 1.3018 - val_accuracy: 0.0375\n",
            "Epoch 10/10\n",
            "3/3 [==============================] - 1s 195ms/step - loss: 1.3027 - accuracy: 0.0452 - val_loss: 1.2992 - val_accuracy: 0.0380\n"
          ]
        }
      ]
    },
    {
      "cell_type": "markdown",
      "source": [
        "## Step 5: Evaluate Adjusted Model"
      ],
      "metadata": {
        "id": "A1KQXjW-p48L"
      }
    },
    {
      "cell_type": "code",
      "source": [
        "performance = model_new.evaluate(X_val, y_val)"
      ],
      "metadata": {
        "id": "1VJh-V4xvu5n",
        "colab": {
          "base_uri": "https://localhost:8080/"
        },
        "outputId": "22db23da-3704-48db-c842-8168e05b7756"
      },
      "execution_count": 7,
      "outputs": [
        {
          "output_type": "stream",
          "name": "stdout",
          "text": [
            "1/1 [==============================] - 0s 88ms/step - loss: 1.2992 - accuracy: 0.0380\n"
          ]
        }
      ]
    },
    {
      "cell_type": "code",
      "source": [
        "print(f'Validation Loss: {performance[0]}, Validation Accuracy: {performance[1]}')"
      ],
      "metadata": {
        "id": "UQ3Hlg1Sp8QB",
        "colab": {
          "base_uri": "https://localhost:8080/"
        },
        "outputId": "97bc2762-9cf0-4530-a214-f17f88a98ef2"
      },
      "execution_count": 8,
      "outputs": [
        {
          "output_type": "stream",
          "name": "stdout",
          "text": [
            "Validation Loss: 1.2991859912872314, Validation Accuracy: 0.03799999877810478\n"
          ]
        }
      ]
    },
    {
      "cell_type": "markdown",
      "source": [
        "## Step 6: Save New Model"
      ],
      "metadata": {
        "id": "i0mQuBoGts0V"
      }
    },
    {
      "cell_type": "code",
      "source": [
        "model_new.save('New_ASR_model.keras')"
      ],
      "metadata": {
        "id": "rLvduFUNttDq"
      },
      "execution_count": 9,
      "outputs": []
    }
  ]
}